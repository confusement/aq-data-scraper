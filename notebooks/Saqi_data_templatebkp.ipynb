{
 "cells": [
  {
   "cell_type": "code",
   "execution_count": 117,
   "id": "14ec198c-ecce-408d-a81a-b021d12a9ab7",
   "metadata": {},
   "outputs": [],
   "source": [
    "import pandas as pd\n",
    "pd.options.mode.chained_assignment = None\n",
    "pd.set_option('display.max_rows', 100)\n",
    "\n",
    "import numpy as np\n",
    "import matplotlib.pyplot as plt\n",
    "%matplotlib inline\n"
   ]
  },
  {
   "cell_type": "code",
   "execution_count": 93,
   "id": "5d389f4b",
   "metadata": {},
   "outputs": [],
   "source": [
    "sensorlocations = [\"Jharoda_Kalan\",\"DTC_bus_terminal\",\"Nangli_Dairy\",\"ShaheenBagh\",\"Sanjay_Colony_2\",\"Tekhand2\"]\n",
    "cpcbLocations = [\"najafgarh\",\"okhla\"]\n",
    "allLocations = sensorlocations + cpcbLocations\n",
    "sensorParameters = [\"pm1_0\",\"pm2_5\",\"pm10\",\"temp\",\"humid\"]\n",
    "\n",
    "def getRawData():\n",
    "    allData = \"https://raw.githubusercontent.com/sudhirattri/aq-data-scraper/main/eziodata/combined/db.csv\"\n",
    "    densityStatsOnly = \"https://raw.githubusercontent.com/sudhirattri/aq-data-scraper/main/eziodata/combined/densityStats.csv\"\n",
    "    sensorData = pd.read_csv(allData,sep=',')\n",
    "    densityStats = pd.read_csv(densityStatsOnly,sep=',') \n",
    "    \n",
    "    cpcbLinks = [\n",
    "    \"https://raw.githubusercontent.com/sudhirattri/aq-data-scraper/main/eziodata/combined/naja_pollutants.csv\",\n",
    "    \"https://raw.githubusercontent.com/sudhirattri/aq-data-scraper/main/eziodata/combined/naja_meter.csv\",\n",
    "    \"https://raw.githubusercontent.com/sudhirattri/aq-data-scraper/main/eziodata/combined/okla_pollutants.csv\",\n",
    "    \"https://raw.githubusercontent.com/sudhirattri/aq-data-scraper/main/eziodata/combined/okla_meter.csv\"\n",
    "    ]\n",
    "\n",
    "    okla_pollutants = pd.read_csv(cpcbLinks[2],sep=',')\n",
    "    okla_meter = pd.read_csv(cpcbLinks[3],sep=',')\n",
    "    naja_pollutants = pd.read_csv(cpcbLinks[0],sep=',')\n",
    "    naja_meter = pd.read_csv(cpcbLinks[1],sep=',')\n",
    "    \n",
    "    return sensorData,okla_pollutants,okla_meter,naja_pollutants,naja_meter\n",
    "\n",
    "def combineCPCB(okla_pollutants,okla_meter,naja_pollutants,naja_meter):\n",
    "    okla_cpcb = pd.merge(okla_pollutants, okla_meter, on='To Date', how='outer')\n",
    "    naja_cpcb = pd.merge(naja_pollutants, naja_meter, on='To Date', how='outer')\n",
    "    \n",
    "    naja_cpcb = naja_cpcb.rename(columns={'To Date': 'timestamp', 'PM2.5': 'pm2_5','PM10': 'pm10'})\n",
    "    okla_cpcb = okla_cpcb.rename(columns={'To Date': 'timestamp', 'PM2.5': 'pm2_5','PM10': 'pm10'})\n",
    "    cpcbData = {\"najafgarh\":naja_cpcb,\"okhla\":okla_cpcb}\n",
    "    return cpcbData\n",
    "    \n",
    "def partDataByLoc(sensorData,cpcbData):\n",
    "    allData = {}\n",
    "    for loc in sensorlocations:\n",
    "        allData[loc] = sensorData[sensorData[\"location\"]==loc].copy()\n",
    "    allData[\"najafgarh\"] = cpcbData[\"najafgarh\"]\n",
    "    allData[\"okhla\"] = cpcbData[\"okhla\"]\n",
    "    return allData\n",
    "\n",
    "def convertTimeStamp(allData):\n",
    "    format=\"%m/%d/%Y\"\n",
    "    for location in allData:\n",
    "        allData[location]['timestamp'] = (allData[location][\"timestamp\"].apply(lambda d: pd.to_datetime(str(d))))\n",
    "        allData[location] = allData[location].sort_values(by='timestamp',ascending=True)\n",
    "    return allData\n"
   ]
  },
  {
   "cell_type": "markdown",
   "id": "b9ac864f",
   "metadata": {},
   "source": [
    "### Get Raw Data (download step, run once only)"
   ]
  },
  {
   "cell_type": "code",
   "execution_count": 3,
   "id": "94d61141",
   "metadata": {},
   "outputs": [],
   "source": [
    "sensorData,okla_pollutants,okla_meter,naja_pollutants,naja_meter = getRawData()"
   ]
  },
  {
   "cell_type": "markdown",
   "id": "7e8ee57f",
   "metadata": {},
   "source": [
    "### Everything below OK"
   ]
  },
  {
   "cell_type": "code",
   "execution_count": 94,
   "id": "6c0d9d5f",
   "metadata": {
    "scrolled": false
   },
   "outputs": [],
   "source": [
    "cpcbData = combineCPCB(okla_pollutants,okla_meter,naja_pollutants,naja_meter)\n",
    "allData = partDataByLoc(sensorData,cpcbData)\n",
    "allData = convertTimeStamp(allData)"
   ]
  },
  {
   "cell_type": "code",
   "execution_count": 144,
   "id": "8caa1608",
   "metadata": {},
   "outputs": [],
   "source": [
    "def getIntForTimeDate(row):\n",
    "    timeFromStart = row[\"timestamp\"].hour + (row[\"timestamp\"].minute/60.0)\n",
    "    return (timeFromStart) / 24.0\n",
    "def getFractionalDayForTimeDate(row):\n",
    "    timeFromStart = row[\"timestamp\"].hour + (row[\"timestamp\"].minute/60.0)\n",
    "    fractionDay = (timeFromStart) / 24.0\n",
    "    if(row[\"timestamp\"].month==10):\n",
    "        return row[\"timestamp\"].day + fractionDay\n",
    "    else:\n",
    "        return 31.0 + row[\"timestamp\"].day + fractionDay\n",
    "    \n",
    "for locs in allLocations:\n",
    "    allData[locs].index = np.arange(len(allData[locs]))\n",
    "    allData[locs].loc[:,\"integerTime\"] = allData[locs].apply(lambda row: getIntForTimeDate(row), axis=1)\n",
    "    allData[locs].loc[:,\"fractionalDay\"] = allData[locs].apply(lambda row: getFractionalDayForTimeDate(row), axis=1)"
   ]
  },
  {
   "cell_type": "code",
   "execution_count": null,
   "id": "d50a897b",
   "metadata": {},
   "outputs": [],
   "source": [
    "fig, ax = plt.subplots(6,1,figsize=(10,60))\n",
    "for i in range(6):\n",
    "    x = allData[sensorlocations[i]][\"fractionalDay\"]\n",
    "    x_ticks = map(lambda d: str(int(d))+' Oct' if d < 32.0 else str(int(d)-32)+' Nov', x)\n",
    "    ax[i].set_xticks(x)\n",
    "    ax[i].set_xticklabels(x_ticks)\n",
    "    y = allData[sensorlocations[i]][\"pm2_5\"]\n",
    "    ax[i].plot(x,y,label=\"PM 2.5\")"
   ]
  },
  {
   "cell_type": "code",
   "execution_count": null,
   "id": "76512b0e",
   "metadata": {},
   "outputs": [],
   "source": []
  }
 ],
 "metadata": {
  "kernelspec": {
   "display_name": "Python 3 (ipykernel)",
   "language": "python",
   "name": "python3"
  },
  "language_info": {
   "codemirror_mode": {
    "name": "ipython",
    "version": 3
   },
   "file_extension": ".py",
   "mimetype": "text/x-python",
   "name": "python",
   "nbconvert_exporter": "python",
   "pygments_lexer": "ipython3",
   "version": "3.9.5"
  }
 },
 "nbformat": 4,
 "nbformat_minor": 5
}
