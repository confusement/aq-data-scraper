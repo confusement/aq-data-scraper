{
 "cells": [
  {
   "cell_type": "code",
   "execution_count": 1,
   "id": "14ec198c-ecce-408d-a81a-b021d12a9ab7",
   "metadata": {},
   "outputs": [],
   "source": [
    "import pandas as pd\n",
    "pd.options.mode.chained_assignment = None\n",
    "pd.set_option('display.max_rows', 100)\n",
    "\n",
    "import seaborn as sns\n",
    "sns.set_theme()\n",
    "\n",
    "import numpy as np\n",
    "import matplotlib.pyplot as plt\n",
    "\n",
    "from scipy import stats\n",
    "\n",
    "from sklearn import linear_model"
   ]
  },
  {
   "cell_type": "code",
   "execution_count": 2,
   "id": "5d389f4b",
   "metadata": {},
   "outputs": [],
   "source": [
    "sensorlocations = [\"Jharoda_Kalan\",\"DTC_bus_terminal\",\"Nangli_Dairy\",\"ShaheenBagh\",\"Sanjay_Colony_2\",\"Tekhand2\"]\n",
    "cpcbLocations = [\"najafgarh\",\"okhla\"]\n",
    "allLocations = sensorlocations + cpcbLocations\n",
    "sensorParameters = [\"pm1_0\",\"pm2_5\",\"pm10\",\"temp\",\"humid\"]\n",
    "cpcbColumns = ['pm2_5', 'pm10']\n",
    "\n",
    "def getRawData():\n",
    "    allData = \"https://raw.githubusercontent.com/sudhirattri/aq-data-scraper/main/eziodata/combined/db.csv\"\n",
    "    densityStatsOnly = \"https://raw.githubusercontent.com/sudhirattri/aq-data-scraper/main/eziodata/combined/densityStats.csv\"\n",
    "    sensorData = pd.read_csv(allData,sep=',')\n",
    "    densityStats = pd.read_csv(densityStatsOnly,sep=',') \n",
    "    \n",
    "    cpcbLinks = [\n",
    "    \"https://raw.githubusercontent.com/sudhirattri/aq-data-scraper/main/eziodata/combined/naja_pollutants.csv\",\n",
    "    \"https://raw.githubusercontent.com/sudhirattri/aq-data-scraper/main/eziodata/combined/naja_meter.csv\",\n",
    "    \"https://raw.githubusercontent.com/sudhirattri/aq-data-scraper/main/eziodata/combined/okla_pollutants.csv\",\n",
    "    \"https://raw.githubusercontent.com/sudhirattri/aq-data-scraper/main/eziodata/combined/okla_meter.csv\"\n",
    "    ]\n",
    "\n",
    "    okla_pollutants = pd.read_csv(cpcbLinks[2],sep=',')\n",
    "    okla_meter = pd.read_csv(cpcbLinks[3],sep=',')\n",
    "    naja_pollutants = pd.read_csv(cpcbLinks[0],sep=',')\n",
    "    naja_meter = pd.read_csv(cpcbLinks[1],sep=',')\n",
    "    \n",
    "    return sensorData,okla_pollutants,okla_meter,naja_pollutants,naja_meter\n",
    "\n",
    "def combineCPCB(okla_pollutants,okla_meter,naja_pollutants,naja_meter):\n",
    "    okla_cpcb = pd.merge(okla_pollutants, okla_meter, on='To Date', how='outer')\n",
    "    naja_cpcb = pd.merge(naja_pollutants, naja_meter, on='To Date', how='outer')\n",
    "    \n",
    "    naja_cpcb = naja_cpcb.rename(columns={'To Date': 'timestamp', 'PM2.5': 'pm2_5','PM10': 'pm10'})\n",
    "    okla_cpcb = okla_cpcb.rename(columns={'To Date': 'timestamp', 'PM2.5': 'pm2_5','PM10': 'pm10'})\n",
    "    \n",
    "    for i in cpcbColumns:\n",
    "        naja_cpcb[i] = pd.to_numeric(naja_cpcb[i], errors='coerce')\n",
    "        okla_cpcb[i] = pd.to_numeric(okla_cpcb[i], errors='coerce')\n",
    "    cpcbData = {\"najafgarh\":naja_cpcb,\"okhla\":okla_cpcb}\n",
    "    return cpcbData\n",
    "    \n",
    "def partDataByLoc(sensorData,cpcbData):\n",
    "    allData = {}\n",
    "    for loc in sensorlocations:\n",
    "        allData[loc] = sensorData[sensorData[\"location\"]==loc].copy()\n",
    "    allData[\"najafgarh\"] = cpcbData[\"najafgarh\"]\n",
    "    allData[\"okhla\"] = cpcbData[\"okhla\"]\n",
    "    return allData\n",
    "\n",
    "def convertTimeStamp(allData):\n",
    "    format=\"%m/%d/%Y\"\n",
    "    for location in allData:\n",
    "        allData[location]['timestamp'] = (allData[location][\"timestamp\"].apply(lambda d: pd.to_datetime(str(d))))\n",
    "        allData[location] = allData[location].sort_values(by='timestamp',ascending=True)\n",
    "        allData[location] = allData[location].set_index('timestamp')\n",
    "        allData[location][\"timestamp\"] = allData[location].index\n",
    "    return allData"
   ]
  },
  {
   "cell_type": "markdown",
   "id": "b9ac864f",
   "metadata": {},
   "source": [
    "### Get Raw Data (download step, run once only)"
   ]
  },
  {
   "cell_type": "code",
   "execution_count": 3,
   "id": "94d61141",
   "metadata": {},
   "outputs": [],
   "source": [
    "sensorData,okla_pollutants,okla_meter,naja_pollutants,naja_meter = getRawData()"
   ]
  },
  {
   "cell_type": "markdown",
   "id": "7e8ee57f",
   "metadata": {},
   "source": [
    "### Everything below OK"
   ]
  },
  {
   "cell_type": "code",
   "execution_count": 4,
   "id": "6c0d9d5f",
   "metadata": {
    "scrolled": false
   },
   "outputs": [],
   "source": [
    "cpcbData = combineCPCB(okla_pollutants,okla_meter,naja_pollutants,naja_meter)\n",
    "allData = partDataByLoc(sensorData,cpcbData)\n",
    "allData = convertTimeStamp(allData)"
   ]
  },
  {
   "cell_type": "markdown",
   "id": "7b5c7497",
   "metadata": {},
   "source": [
    "### Run Once Only"
   ]
  },
  {
   "cell_type": "code",
   "execution_count": 5,
   "id": "b0562642",
   "metadata": {},
   "outputs": [],
   "source": [
    "sensorlocations = [\"Jharoda_Kalan\",\"DTC_bus_terminal\",\"Nangli_Dairy\",\"ShaheenBagh\",\"Sanjay_Colony_2\",\"Tekhand2\"]\n",
    "cpcbLocations = [\"najafgarh\",\"okhla\"]\n",
    "allLocations = sensorlocations + cpcbLocations\n",
    "sensorParameters = [\"pm1_0\",\"pm2_5\",\"pm10\",\"temp\",\"humid\"]\n",
    "\n",
    "def getIntForTimeDate(row):\n",
    "    timeFromStart = row[\"timestamp\"].hour + (row[\"timestamp\"].minute/60.0)\n",
    "    return (timeFromStart) / 24.0\n",
    "def getFractionalDayForTimeDate(row):\n",
    "    timeFromStart = row[\"timestamp\"].hour + (row[\"timestamp\"].minute/60.0)\n",
    "    fractionDay = (timeFromStart) / 24.0\n",
    "    if(row[\"timestamp\"].month==10):\n",
    "        return row[\"timestamp\"].day + fractionDay\n",
    "    else:\n",
    "        return 31.0 + row[\"timestamp\"].day + fractionDay\n",
    "    \n",
    "for locs in allLocations:\n",
    "    allData[locs].loc[:,\"integerTime\"] = allData[locs].apply(lambda row: getIntForTimeDate(row), axis=1)\n",
    "    allData[locs].loc[:,\"fractionalDay\"] = allData[locs].apply(lambda row: getFractionalDayForTimeDate(row), axis=1)"
   ]
  },
  {
   "cell_type": "code",
   "execution_count": null,
   "id": "9031a8d9",
   "metadata": {},
   "outputs": [],
   "source": []
  },
  {
   "cell_type": "code",
   "execution_count": 95,
   "id": "7042ec34",
   "metadata": {},
   "outputs": [],
   "source": [
    "ROLL_MEAN_POINTS = 3600\n",
    "sensorlocations = [\"Jharoda_Kalan\",\"DTC_bus_terminal\",\"Nangli_Dairy\",\"ShaheenBagh\",\"Sanjay_Colony_2\",\"Tekhand2\"]\n",
    "cpcbLocations = [\"najafgarh\",\"okhla\"]\n",
    "allLocations = sensorlocations + cpcbLocations\n",
    "sensorParameters = [\"pm1_0\",\"pm2_5\",\"pm10\",\"temp\",\"humid\"]\n",
    "# sensorParameters = [\"pm1_0\",\"pm2_5\",\"pm10\",\"temp\",\"humid\"]\n",
    "for locs in allLocations:\n",
    "    for i in sensorParameters:\n",
    "        if i in allData[locs].columns:\n",
    "            allData[locs][\"roll_\" + i] = allData[locs][i].rolling(ROLL_MEAN_POINTS).mean().shift(-ROLL_MEAN_POINTS//2)"
   ]
  },
  {
   "cell_type": "code",
   "execution_count": 142,
   "id": "ef982f5f",
   "metadata": {},
   "outputs": [
    {
     "ename": "KeyError",
     "evalue": "'fractionalDay'",
     "output_type": "error",
     "traceback": [
      "\u001b[0;31m---------------------------------------------------------------------------\u001b[0m",
      "\u001b[0;31mKeyError\u001b[0m                                  Traceback (most recent call last)",
      "\u001b[0;32m~/miniconda3/lib/python3.9/site-packages/pandas/core/indexes/base.py\u001b[0m in \u001b[0;36mget_loc\u001b[0;34m(self, key, method, tolerance)\u001b[0m\n\u001b[1;32m   3360\u001b[0m             \u001b[0;32mtry\u001b[0m\u001b[0;34m:\u001b[0m\u001b[0;34m\u001b[0m\u001b[0;34m\u001b[0m\u001b[0m\n\u001b[0;32m-> 3361\u001b[0;31m                 \u001b[0;32mreturn\u001b[0m \u001b[0mself\u001b[0m\u001b[0;34m.\u001b[0m\u001b[0m_engine\u001b[0m\u001b[0;34m.\u001b[0m\u001b[0mget_loc\u001b[0m\u001b[0;34m(\u001b[0m\u001b[0mcasted_key\u001b[0m\u001b[0;34m)\u001b[0m\u001b[0;34m\u001b[0m\u001b[0;34m\u001b[0m\u001b[0m\n\u001b[0m\u001b[1;32m   3362\u001b[0m             \u001b[0;32mexcept\u001b[0m \u001b[0mKeyError\u001b[0m \u001b[0;32mas\u001b[0m \u001b[0merr\u001b[0m\u001b[0;34m:\u001b[0m\u001b[0;34m\u001b[0m\u001b[0;34m\u001b[0m\u001b[0m\n",
      "\u001b[0;32m~/miniconda3/lib/python3.9/site-packages/pandas/_libs/index.pyx\u001b[0m in \u001b[0;36mpandas._libs.index.IndexEngine.get_loc\u001b[0;34m()\u001b[0m\n",
      "\u001b[0;32m~/miniconda3/lib/python3.9/site-packages/pandas/_libs/index.pyx\u001b[0m in \u001b[0;36mpandas._libs.index.IndexEngine.get_loc\u001b[0;34m()\u001b[0m\n",
      "\u001b[0;32mpandas/_libs/hashtable_class_helper.pxi\u001b[0m in \u001b[0;36mpandas._libs.hashtable.PyObjectHashTable.get_item\u001b[0;34m()\u001b[0m\n",
      "\u001b[0;32mpandas/_libs/hashtable_class_helper.pxi\u001b[0m in \u001b[0;36mpandas._libs.hashtable.PyObjectHashTable.get_item\u001b[0;34m()\u001b[0m\n",
      "\u001b[0;31mKeyError\u001b[0m: 'fractionalDay'",
      "\nThe above exception was the direct cause of the following exception:\n",
      "\u001b[0;31mKeyError\u001b[0m                                  Traceback (most recent call last)",
      "\u001b[0;32m/tmp/ipykernel_50392/44830196.py\u001b[0m in \u001b[0;36m<module>\u001b[0;34m\u001b[0m\n\u001b[1;32m      3\u001b[0m     \u001b[0mx_ticks\u001b[0m \u001b[0;34m=\u001b[0m \u001b[0mmap\u001b[0m\u001b[0;34m(\u001b[0m\u001b[0;32mlambda\u001b[0m \u001b[0md\u001b[0m\u001b[0;34m:\u001b[0m \u001b[0mstr\u001b[0m\u001b[0;34m(\u001b[0m\u001b[0mint\u001b[0m\u001b[0;34m(\u001b[0m\u001b[0md\u001b[0m\u001b[0;34m)\u001b[0m\u001b[0;34m)\u001b[0m\u001b[0;34m+\u001b[0m\u001b[0;34m' Oct'\u001b[0m \u001b[0;32mif\u001b[0m \u001b[0md\u001b[0m \u001b[0;34m<\u001b[0m \u001b[0;36m32.0\u001b[0m \u001b[0;32melse\u001b[0m \u001b[0mstr\u001b[0m\u001b[0;34m(\u001b[0m\u001b[0mint\u001b[0m\u001b[0;34m(\u001b[0m\u001b[0md\u001b[0m\u001b[0;34m)\u001b[0m\u001b[0;34m-\u001b[0m\u001b[0;36m32\u001b[0m\u001b[0;34m)\u001b[0m\u001b[0;34m+\u001b[0m\u001b[0;34m' Nov'\u001b[0m\u001b[0;34m,\u001b[0m \u001b[0mrange\u001b[0m\u001b[0;34m(\u001b[0m\u001b[0;36m1\u001b[0m\u001b[0;34m,\u001b[0m\u001b[0;36m37\u001b[0m\u001b[0;34m)\u001b[0m\u001b[0;34m)\u001b[0m\u001b[0;34m\u001b[0m\u001b[0;34m\u001b[0m\u001b[0m\n\u001b[1;32m      4\u001b[0m     \u001b[0mfig\u001b[0m\u001b[0;34m,\u001b[0m \u001b[0max\u001b[0m \u001b[0;34m=\u001b[0m \u001b[0mplt\u001b[0m\u001b[0;34m.\u001b[0m\u001b[0msubplots\u001b[0m\u001b[0;34m(\u001b[0m\u001b[0mfigsize\u001b[0m\u001b[0;34m=\u001b[0m\u001b[0;34m(\u001b[0m\u001b[0;36m30\u001b[0m\u001b[0;34m,\u001b[0m \u001b[0;36m10\u001b[0m\u001b[0;34m)\u001b[0m\u001b[0;34m)\u001b[0m\u001b[0;34m\u001b[0m\u001b[0;34m\u001b[0m\u001b[0m\n\u001b[0;32m----> 5\u001b[0;31m     \u001b[0mvx1\u001b[0m \u001b[0;34m=\u001b[0m \u001b[0mallData\u001b[0m\u001b[0;34m[\u001b[0m\u001b[0mcpcbLocations\u001b[0m\u001b[0;34m[\u001b[0m\u001b[0mi\u001b[0m\u001b[0;34m]\u001b[0m\u001b[0;34m]\u001b[0m\u001b[0;34m[\u001b[0m\u001b[0;34m'fractionalDay'\u001b[0m\u001b[0;34m]\u001b[0m\u001b[0;34m\u001b[0m\u001b[0;34m\u001b[0m\u001b[0m\n\u001b[0m\u001b[1;32m      6\u001b[0m     \u001b[0mvx2\u001b[0m \u001b[0;34m=\u001b[0m \u001b[0mallData\u001b[0m\u001b[0;34m[\u001b[0m\u001b[0mcpcbLocations\u001b[0m\u001b[0;34m[\u001b[0m\u001b[0mi\u001b[0m\u001b[0;34m]\u001b[0m\u001b[0;34m]\u001b[0m\u001b[0;34m[\u001b[0m\u001b[0;34m'roll_pm2_5'\u001b[0m\u001b[0;34m]\u001b[0m\u001b[0;34m\u001b[0m\u001b[0;34m\u001b[0m\u001b[0m\n\u001b[1;32m      7\u001b[0m     \u001b[0mvx3\u001b[0m \u001b[0;34m=\u001b[0m \u001b[0mallData\u001b[0m\u001b[0;34m[\u001b[0m\u001b[0mcpcbLocations\u001b[0m\u001b[0;34m[\u001b[0m\u001b[0mi\u001b[0m\u001b[0;34m]\u001b[0m\u001b[0;34m]\u001b[0m\u001b[0;34m[\u001b[0m\u001b[0;34m'roll_pm10'\u001b[0m\u001b[0;34m]\u001b[0m\u001b[0;34m\u001b[0m\u001b[0;34m\u001b[0m\u001b[0m\n",
      "\u001b[0;32m~/miniconda3/lib/python3.9/site-packages/pandas/core/frame.py\u001b[0m in \u001b[0;36m__getitem__\u001b[0;34m(self, key)\u001b[0m\n\u001b[1;32m   3456\u001b[0m             \u001b[0;32mif\u001b[0m \u001b[0mself\u001b[0m\u001b[0;34m.\u001b[0m\u001b[0mcolumns\u001b[0m\u001b[0;34m.\u001b[0m\u001b[0mnlevels\u001b[0m \u001b[0;34m>\u001b[0m \u001b[0;36m1\u001b[0m\u001b[0;34m:\u001b[0m\u001b[0;34m\u001b[0m\u001b[0;34m\u001b[0m\u001b[0m\n\u001b[1;32m   3457\u001b[0m                 \u001b[0;32mreturn\u001b[0m \u001b[0mself\u001b[0m\u001b[0;34m.\u001b[0m\u001b[0m_getitem_multilevel\u001b[0m\u001b[0;34m(\u001b[0m\u001b[0mkey\u001b[0m\u001b[0;34m)\u001b[0m\u001b[0;34m\u001b[0m\u001b[0;34m\u001b[0m\u001b[0m\n\u001b[0;32m-> 3458\u001b[0;31m             \u001b[0mindexer\u001b[0m \u001b[0;34m=\u001b[0m \u001b[0mself\u001b[0m\u001b[0;34m.\u001b[0m\u001b[0mcolumns\u001b[0m\u001b[0;34m.\u001b[0m\u001b[0mget_loc\u001b[0m\u001b[0;34m(\u001b[0m\u001b[0mkey\u001b[0m\u001b[0;34m)\u001b[0m\u001b[0;34m\u001b[0m\u001b[0;34m\u001b[0m\u001b[0m\n\u001b[0m\u001b[1;32m   3459\u001b[0m             \u001b[0;32mif\u001b[0m \u001b[0mis_integer\u001b[0m\u001b[0;34m(\u001b[0m\u001b[0mindexer\u001b[0m\u001b[0;34m)\u001b[0m\u001b[0;34m:\u001b[0m\u001b[0;34m\u001b[0m\u001b[0;34m\u001b[0m\u001b[0m\n\u001b[1;32m   3460\u001b[0m                 \u001b[0mindexer\u001b[0m \u001b[0;34m=\u001b[0m \u001b[0;34m[\u001b[0m\u001b[0mindexer\u001b[0m\u001b[0;34m]\u001b[0m\u001b[0;34m\u001b[0m\u001b[0;34m\u001b[0m\u001b[0m\n",
      "\u001b[0;32m~/miniconda3/lib/python3.9/site-packages/pandas/core/indexes/base.py\u001b[0m in \u001b[0;36mget_loc\u001b[0;34m(self, key, method, tolerance)\u001b[0m\n\u001b[1;32m   3361\u001b[0m                 \u001b[0;32mreturn\u001b[0m \u001b[0mself\u001b[0m\u001b[0;34m.\u001b[0m\u001b[0m_engine\u001b[0m\u001b[0;34m.\u001b[0m\u001b[0mget_loc\u001b[0m\u001b[0;34m(\u001b[0m\u001b[0mcasted_key\u001b[0m\u001b[0;34m)\u001b[0m\u001b[0;34m\u001b[0m\u001b[0;34m\u001b[0m\u001b[0m\n\u001b[1;32m   3362\u001b[0m             \u001b[0;32mexcept\u001b[0m \u001b[0mKeyError\u001b[0m \u001b[0;32mas\u001b[0m \u001b[0merr\u001b[0m\u001b[0;34m:\u001b[0m\u001b[0;34m\u001b[0m\u001b[0;34m\u001b[0m\u001b[0m\n\u001b[0;32m-> 3363\u001b[0;31m                 \u001b[0;32mraise\u001b[0m \u001b[0mKeyError\u001b[0m\u001b[0;34m(\u001b[0m\u001b[0mkey\u001b[0m\u001b[0;34m)\u001b[0m \u001b[0;32mfrom\u001b[0m \u001b[0merr\u001b[0m\u001b[0;34m\u001b[0m\u001b[0;34m\u001b[0m\u001b[0m\n\u001b[0m\u001b[1;32m   3364\u001b[0m \u001b[0;34m\u001b[0m\u001b[0m\n\u001b[1;32m   3365\u001b[0m         \u001b[0;32mif\u001b[0m \u001b[0mis_scalar\u001b[0m\u001b[0;34m(\u001b[0m\u001b[0mkey\u001b[0m\u001b[0;34m)\u001b[0m \u001b[0;32mand\u001b[0m \u001b[0misna\u001b[0m\u001b[0;34m(\u001b[0m\u001b[0mkey\u001b[0m\u001b[0;34m)\u001b[0m \u001b[0;32mand\u001b[0m \u001b[0;32mnot\u001b[0m \u001b[0mself\u001b[0m\u001b[0;34m.\u001b[0m\u001b[0mhasnans\u001b[0m\u001b[0;34m:\u001b[0m\u001b[0;34m\u001b[0m\u001b[0;34m\u001b[0m\u001b[0m\n",
      "\u001b[0;31mKeyError\u001b[0m: 'fractionalDay'"
     ]
    },
    {
     "data": {
      "image/png": "[encoded data removed]",
      "text/plain": [
       "<Figure size 2160x720 with 1 Axes>"
      ]
     },
     "metadata": {},
     "output_type": "display_data"
    }
   ],
   "source": [
    "# fig, ax = plt.subplots(6,1,figsize=(30,60))\n",
    "for i in range(2):\n",
    "    x_ticks = map(lambda d: str(int(d))+' Oct' if d < 32.0 else str(int(d)-32)+' Nov', range(1,37))\n",
    "    fig, ax = plt.subplots(figsize=(30, 10))\n",
    "    vx1 = allData[cpcbLocations[i]]['fractionalDay']\n",
    "    vx2 = allData[cpcbLocations[i]]['roll_pm2_5']\n",
    "    vx3 = allData[cpcbLocations[i]]['roll_pm10']\n",
    "    mask = ~np.isnan(vx1) & ~np.isnan(vx2)\n",
    "    s1, i1, r_value, p_value, std_err = stats.linregress(vx1[mask],vx2[mask])\n",
    "    \n",
    "    s2, i2, r_value, p_value, std_err = stats.linregress(vx1[mask],vx3[mask])\n",
    "    \n",
    "    \n",
    "    print(cpcbLocations[i],\"{:.2f}\".format(s1),\"{:.2f}\".format(s2))\n",
    "    g = sns.regplot(x=\"fractionalDay\", y=\"roll_pm2_5\", data=allData[cpcbLocations[i]],ax=ax, label=\"pm 2.5 : \"+\"{:.2f}\".format(s1))\n",
    "    g = sns.regplot(x=\"fractionalDay\", y=\"roll_pm10\", data=allData[cpcbLocations[i]],ax=ax, label=\"pm 10: \"+\"{:.2f}\".format(s2))\n",
    "    g.set_xticks(range(1,37))\n",
    "    g.set_xticklabels(x_ticks)\n",
    "    g.legend(title='slope: change per day',loc='upper left', borderpad=.2)\n",
    "    ax.set(xlabel='Day', ylabel='PM2.5')\n",
    "    ax.set_title(cpcbLocations[i]+\" (CPCB) Monthly Trend\")\n",
    "    plt.show()"
   ]
  },
  {
   "cell_type": "code",
   "execution_count": null,
   "id": "397358a4",
   "metadata": {},
   "outputs": [],
   "source": [
    "# fig, ax = plt.subplots(6,1,figsize=(30,60))\n",
    "for i in range(6):\n",
    "    x_ticks = map(lambda d: str(int(d))+' Oct' if d < 32.0 else str(int(d)-32)+' Nov', range(1,37))\n",
    "    fig, ax = plt.subplots(figsize=(30, 10))\n",
    "    vx1 = allData[sensorlocations[i]]['fractionalDay']\n",
    "    vx2 = allData[sensorlocations[i]]['roll_pm2_5']\n",
    "    vx3 = allData[sensorlocations[i]]['roll_pm10']\n",
    "    vx4 = allData[sensorlocations[i]]['roll_pm1_0']\n",
    "    mask = ~np.isnan(vx1) & ~np.isnan(vx2)\n",
    "    s1, i1, r_value, p_value, std_err = stats.linregress(vx1[mask],vx2[mask])\n",
    "    \n",
    "    s2, i2, r_value, p_value, std_err = stats.linregress(vx1[mask],vx3[mask])\n",
    "    \n",
    "    s3, i3, r_value, p_value, std_err = stats.linregress(vx1[mask],vx4[mask])\n",
    "    \n",
    "    print(sensorlocations[i],\"{:.2f}\".format(s1),\"{:.2f}\".format(s2),\"{:.2f}\".format(s3))\n",
    "    g = sns.regplot(x=\"fractionalDay\", y=\"roll_pm2_5\", data=allData[sensorlocations[i]],ax=ax, label=\"pm 2.5 : \"+\"{:.2f}\".format(s1))\n",
    "    g = sns.regplot(x=\"fractionalDay\", y=\"roll_pm10\", data=allData[sensorlocations[i]],ax=ax, label=\"pm 10: \"+\"{:.2f}\".format(s2))\n",
    "    g = sns.regplot(x=\"fractionalDay\", y=\"roll_pm1_0\", data=allData[sensorlocations[i]],ax=ax, label=\"pm 1.0: \"+\"{:.2f}\".format(s3))\n",
    "    g.set_xticks(range(1,37))\n",
    "    g.set_xticklabels(x_ticks)\n",
    "    g.legend(title='slope: change per day',loc='upper left', borderpad=.2)\n",
    "    ax.set(xlabel='Day', ylabel='PM2.5')\n",
    "    ax.set_title(sensorlocations[i]+\" Monthly Trend\")\n",
    "    plt.show()"
   ]
  },
  {
   "cell_type": "code",
   "execution_count": 141,
   "id": "2fc401c7",
   "metadata": {},
   "outputs": [
    {
     "data": {
      "text/plain": [
       "timestamp\n",
       "2021-01-10 00:00:00    37.266667\n",
       "2021-01-10 04:00:00    41.687500\n",
       "2021-01-10 08:00:00    42.812500\n",
       "2021-01-10 12:00:00    26.875000\n",
       "2021-01-10 16:00:00    31.062500\n",
       "                         ...    \n",
       "2021-12-10 04:00:00    65.937500\n",
       "2021-12-10 08:00:00    66.000000\n",
       "2021-12-10 12:00:00    24.312500\n",
       "2021-12-10 16:00:00    25.500000\n",
       "2021-12-10 20:00:00    58.062500\n",
       "Freq: 4H, Name: pm2_5, Length: 2010, dtype: float64"
      ]
     },
     "execution_count": 141,
     "metadata": {},
     "output_type": "execute_result"
    }
   ],
   "source": [
    "x1 = allData[\"Jharoda_Kalan\"][\"pm2_5\"].resample('4H').mean()\n",
    "x2 = allData[\"najafgarh\"][\"pm2_5\"].resample('4H').mean()\n",
    "x2"
   ]
  }
 ],
 "metadata": {
  "kernelspec": {
   "display_name": "Python 3 (ipykernel)",
   "language": "python",
   "name": "python3"
  },
  "language_info": {
   "codemirror_mode": {
    "name": "ipython",
    "version": 3
   },
   "file_extension": ".py",
   "mimetype": "text/x-python",
   "name": "python",
   "nbconvert_exporter": "python",
   "pygments_lexer": "ipython3",
   "version": "3.9.5"
  }
 },
 "nbformat": 4,
 "nbformat_minor": 5
}
